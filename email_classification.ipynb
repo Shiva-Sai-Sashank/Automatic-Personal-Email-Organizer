{
  "nbformat": 4,
  "nbformat_minor": 5,
  "metadata": {
    "kernelspec": {
      "display_name": "Python 3",
      "language": "python",
      "name": "python3"
    },
    "language_info": {
      "codemirror_mode": {
        "name": "ipython",
        "version": 3
      },
      "file_extension": ".py",
      "mimetype": "text/x-python",
      "name": "python",
      "nbconvert_exporter": "python",
      "pygments_lexer": "ipython3",
      "version": "3.8.8"
    },
    "colab": {
      "name": "Copy of ML_final.ipynb",
      "provenance": [],
      "collapsed_sections": []
    }
  },
  "cells": [
    {
      "cell_type": "code",
      "metadata": {
        "id": "3e1639bb"
      },
      "source": [
        "import numpy as np\n",
        "import pandas as pd"
      ],
      "id": "3e1639bb",
      "execution_count": 2,
      "outputs": []
    },
    {
      "cell_type": "markdown",
      "metadata": {
        "id": "0_jXSEQWvFSZ"
      },
      "source": [
        "Data preparation"
      ],
      "id": "0_jXSEQWvFSZ"
    },
    {
      "cell_type": "code",
      "metadata": {
        "id": "31ac1a03"
      },
      "source": [
        "acads = pd.read_csv(\"sample_data/acads1.csv\")"
      ],
      "id": "31ac1a03",
      "execution_count": 77,
      "outputs": []
    },
    {
      "cell_type": "code",
      "metadata": {
        "id": "74f6cf72"
      },
      "source": [
        "advertisement = pd.read_csv(\"sample_data/advertisements1.csv\")"
      ],
      "id": "74f6cf72",
      "execution_count": 78,
      "outputs": []
    },
    {
      "cell_type": "code",
      "metadata": {
        "id": "325ba7b4"
      },
      "source": [
        "alerts = pd.read_csv(\"sample_data/alerts1.csv\")"
      ],
      "id": "325ba7b4",
      "execution_count": 79,
      "outputs": []
    },
    {
      "cell_type": "code",
      "metadata": {
        "id": "1a91694e"
      },
      "source": [
        "work = pd.read_csv(\"sample_data/work1.csv\")"
      ],
      "id": "1a91694e",
      "execution_count": 80,
      "outputs": []
    },
    {
      "cell_type": "code",
      "metadata": {
        "id": "30222bbd"
      },
      "source": [
        "network = pd.read_csv(\"sample_data/network1.csv\")"
      ],
      "id": "30222bbd",
      "execution_count": 81,
      "outputs": []
    },
    {
      "cell_type": "code",
      "metadata": {
        "id": "163af0bd"
      },
      "source": [
        "miscellaneous = pd.read_csv(\"sample_data/miscellaneous1.csv\")"
      ],
      "id": "163af0bd",
      "execution_count": 82,
      "outputs": []
    },
    {
      "cell_type": "code",
      "metadata": {
        "id": "cc0c44fe"
      },
      "source": [
        "x = np.arange(acads.shape[0])\n",
        "label = [\"acads\" for t in x]\n",
        "acads['Label'] = label\n",
        "x = np.arange(advertisement.shape[0])\n",
        "label = [\"advertisements\" for t in x]\n",
        "advertisement['Label'] = label\n",
        "x = np.arange(announcements.shape[0])\n",
        "label = [\"alerts\" for t in x]\n",
        "alerts['Label'] = label\n",
        "x = np.arange(evals.shape[0])\n",
        "label = [\"work\" for t in x]\n",
        "work['Label'] = label\n",
        "x = np.arange(social.shape[0])\n",
        "label = [\"network\" for t in x]\n",
        "network['Label'] = label\n",
        "x = np.arange(miscellaneous.shape[0])\n",
        "label = [\"miscellaneous\" for t in x]\n",
        "miscellaneous['Label'] = label"
      ],
      "id": "cc0c44fe",
      "execution_count": 87,
      "outputs": []
    },
    {
      "cell_type": "code",
      "metadata": {
        "id": "2b9c4b38"
      },
      "source": [
        "alerts = alerts[['Subject','Body','Label']]\n",
        "miscellaneous = miscellaneous[['Subject', 'Body','Label']]\n",
        "acads = acads[['Subject','Body','Label']]\n",
        "advertisement = advertisement[['Subject','Body','Label']]\n",
        "work = work[['Subject','Body','Label']]\n",
        "network = network[['Subject','Body','Label']]"
      ],
      "id": "2b9c4b38",
      "execution_count": 88,
      "outputs": []
    },
    {
      "cell_type": "code",
      "metadata": {
        "id": "a15a7299"
      },
      "source": [
        "frames = [acads, advertisement, alerts, work, network, miscellaneous]\n",
        "dataset = pd.concat(frames)"
      ],
      "id": "a15a7299",
      "execution_count": 89,
      "outputs": []
    },
    {
      "cell_type": "code",
      "metadata": {
        "id": "e889a2bd",
        "colab": {
          "base_uri": "https://localhost:8080/",
          "height": 415
        },
        "outputId": "f8e2a750-c2d5-4a7b-f8f6-bac56e7edb7b"
      },
      "source": [
        "dataset = dataset.dropna(axis = 0)\n",
        "dataset\n"
      ],
      "id": "e889a2bd",
      "execution_count": 90,
      "outputs": [
        {
          "output_type": "execute_result",
          "data": {
            "text/html": [
              "<div>\n",
              "<style scoped>\n",
              "    .dataframe tbody tr th:only-of-type {\n",
              "        vertical-align: middle;\n",
              "    }\n",
              "\n",
              "    .dataframe tbody tr th {\n",
              "        vertical-align: top;\n",
              "    }\n",
              "\n",
              "    .dataframe thead th {\n",
              "        text-align: right;\n",
              "    }\n",
              "</style>\n",
              "<table border=\"1\" class=\"dataframe\">\n",
              "  <thead>\n",
              "    <tr style=\"text-align: right;\">\n",
              "      <th></th>\n",
              "      <th>Subject</th>\n",
              "      <th>Body</th>\n",
              "      <th>Label</th>\n",
              "    </tr>\n",
              "  </thead>\n",
              "  <tbody>\n",
              "    <tr>\n",
              "      <th>0</th>\n",
              "      <td>Fwd:</td>\n",
              "      <td>\\r\\n\\r\\n---------- Forwarded message ---------...</td>\n",
              "      <td>acads</td>\n",
              "    </tr>\n",
              "    <tr>\n",
              "      <th>1</th>\n",
              "      <td>11511001123_MATH F213_AUG_2021: mettl link update</td>\n",
              "      <td>11511001123_MATH F213_AUG_2021 &lt;https://naland...</td>\n",
              "      <td>acads</td>\n",
              "    </tr>\n",
              "    <tr>\n",
              "      <th>2</th>\n",
              "      <td>11511001123_MATH F213_AUG_2021: mettl link</td>\n",
              "      <td>11511001123_MATH F213_AUG_2021 &lt;https://naland...</td>\n",
              "      <td>acads</td>\n",
              "    </tr>\n",
              "    <tr>\n",
              "      <th>3</th>\n",
              "      <td>11511002433_BITS F451_AUG_2021: Remaining mid-...</td>\n",
              "      <td>11511002433_BITS F451_AUG_2021 &lt;https://naland...</td>\n",
              "      <td>acads</td>\n",
              "    </tr>\n",
              "    <tr>\n",
              "      <th>4</th>\n",
              "      <td>11511001123_MATH F213_AUG_2021: Seating arrang...</td>\n",
              "      <td>11511001123_MATH F213_AUG_2021 &lt;https://naland...</td>\n",
              "      <td>acads</td>\n",
              "    </tr>\n",
              "    <tr>\n",
              "      <th>...</th>\n",
              "      <td>...</td>\n",
              "      <td>...</td>\n",
              "      <td>...</td>\n",
              "    </tr>\n",
              "    <tr>\n",
              "      <th>130</th>\n",
              "      <td>Re:</td>\n",
              "      <td>Hi Abdul,\\r\\n\\r\\nWe have received the second i...</td>\n",
              "      <td>miscellaneous</td>\n",
              "    </tr>\n",
              "    <tr>\n",
              "      <th>136</th>\n",
              "      <td>Document from Abdul Razzaq</td>\n",
              "      <td>AdmitCard-210310453927.pdf \\r\\n</td>\n",
              "      <td>miscellaneous</td>\n",
              "    </tr>\n",
              "    <tr>\n",
              "      <th>140</th>\n",
              "      <td>Document from Abdul Razzaq</td>\n",
              "      <td>CN HOME ASSIGNMENT.pdf \\r\\n</td>\n",
              "      <td>miscellaneous</td>\n",
              "    </tr>\n",
              "    <tr>\n",
              "      <th>141</th>\n",
              "      <td>Document from Abdul Razzaq</td>\n",
              "      <td>CN HOME ASSIGNMENT.pdf \\r\\n</td>\n",
              "      <td>miscellaneous</td>\n",
              "    </tr>\n",
              "    <tr>\n",
              "      <th>144</th>\n",
              "      <td>Document from Abdul Razzaq</td>\n",
              "      <td>dip-home assignment.pdf \\r\\n</td>\n",
              "      <td>miscellaneous</td>\n",
              "    </tr>\n",
              "  </tbody>\n",
              "</table>\n",
              "<p>1133 rows × 3 columns</p>\n",
              "</div>"
            ],
            "text/plain": [
              "                                               Subject  ...          Label\n",
              "0                                                 Fwd:  ...          acads\n",
              "1    11511001123_MATH F213_AUG_2021: mettl link update  ...          acads\n",
              "2           11511001123_MATH F213_AUG_2021: mettl link  ...          acads\n",
              "3    11511002433_BITS F451_AUG_2021: Remaining mid-...  ...          acads\n",
              "4    11511001123_MATH F213_AUG_2021: Seating arrang...  ...          acads\n",
              "..                                                 ...  ...            ...\n",
              "130                                                Re:  ...  miscellaneous\n",
              "136                         Document from Abdul Razzaq  ...  miscellaneous\n",
              "140                         Document from Abdul Razzaq  ...  miscellaneous\n",
              "141                         Document from Abdul Razzaq  ...  miscellaneous\n",
              "144                         Document from Abdul Razzaq  ...  miscellaneous\n",
              "\n",
              "[1133 rows x 3 columns]"
            ]
          },
          "metadata": {},
          "execution_count": 90
        }
      ]
    },
    {
      "cell_type": "code",
      "metadata": {
        "id": "84d0208f",
        "colab": {
          "base_uri": "https://localhost:8080/",
          "height": 415
        },
        "outputId": "0ebe743c-2622-474e-b3c4-5a916a983693"
      },
      "source": [
        "data = pd.DataFrame(dataset['Subject']+dataset['Body'])\n",
        "data"
      ],
      "id": "84d0208f",
      "execution_count": 91,
      "outputs": [
        {
          "output_type": "execute_result",
          "data": {
            "text/html": [
              "<div>\n",
              "<style scoped>\n",
              "    .dataframe tbody tr th:only-of-type {\n",
              "        vertical-align: middle;\n",
              "    }\n",
              "\n",
              "    .dataframe tbody tr th {\n",
              "        vertical-align: top;\n",
              "    }\n",
              "\n",
              "    .dataframe thead th {\n",
              "        text-align: right;\n",
              "    }\n",
              "</style>\n",
              "<table border=\"1\" class=\"dataframe\">\n",
              "  <thead>\n",
              "    <tr style=\"text-align: right;\">\n",
              "      <th></th>\n",
              "      <th>0</th>\n",
              "    </tr>\n",
              "  </thead>\n",
              "  <tbody>\n",
              "    <tr>\n",
              "      <th>0</th>\n",
              "      <td>Fwd:\\r\\n\\r\\n---------- Forwarded message -----...</td>\n",
              "    </tr>\n",
              "    <tr>\n",
              "      <th>1</th>\n",
              "      <td>11511001123_MATH F213_AUG_2021: mettl link upd...</td>\n",
              "    </tr>\n",
              "    <tr>\n",
              "      <th>2</th>\n",
              "      <td>11511001123_MATH F213_AUG_2021: mettl link1151...</td>\n",
              "    </tr>\n",
              "    <tr>\n",
              "      <th>3</th>\n",
              "      <td>11511002433_BITS F451_AUG_2021: Remaining mid-...</td>\n",
              "    </tr>\n",
              "    <tr>\n",
              "      <th>4</th>\n",
              "      <td>11511001123_MATH F213_AUG_2021: Seating arrang...</td>\n",
              "    </tr>\n",
              "    <tr>\n",
              "      <th>...</th>\n",
              "      <td>...</td>\n",
              "    </tr>\n",
              "    <tr>\n",
              "      <th>130</th>\n",
              "      <td>Re:Hi Abdul,\\r\\n\\r\\nWe have received the secon...</td>\n",
              "    </tr>\n",
              "    <tr>\n",
              "      <th>136</th>\n",
              "      <td>Document from Abdul RazzaqAdmitCard-2103104539...</td>\n",
              "    </tr>\n",
              "    <tr>\n",
              "      <th>140</th>\n",
              "      <td>Document from Abdul RazzaqCN HOME ASSIGNMENT.p...</td>\n",
              "    </tr>\n",
              "    <tr>\n",
              "      <th>141</th>\n",
              "      <td>Document from Abdul RazzaqCN HOME ASSIGNMENT.p...</td>\n",
              "    </tr>\n",
              "    <tr>\n",
              "      <th>144</th>\n",
              "      <td>Document from Abdul Razzaqdip-home assignment....</td>\n",
              "    </tr>\n",
              "  </tbody>\n",
              "</table>\n",
              "<p>1133 rows × 1 columns</p>\n",
              "</div>"
            ],
            "text/plain": [
              "                                                     0\n",
              "0    Fwd:\\r\\n\\r\\n---------- Forwarded message -----...\n",
              "1    11511001123_MATH F213_AUG_2021: mettl link upd...\n",
              "2    11511001123_MATH F213_AUG_2021: mettl link1151...\n",
              "3    11511002433_BITS F451_AUG_2021: Remaining mid-...\n",
              "4    11511001123_MATH F213_AUG_2021: Seating arrang...\n",
              "..                                                 ...\n",
              "130  Re:Hi Abdul,\\r\\n\\r\\nWe have received the secon...\n",
              "136  Document from Abdul RazzaqAdmitCard-2103104539...\n",
              "140  Document from Abdul RazzaqCN HOME ASSIGNMENT.p...\n",
              "141  Document from Abdul RazzaqCN HOME ASSIGNMENT.p...\n",
              "144  Document from Abdul Razzaqdip-home assignment....\n",
              "\n",
              "[1133 rows x 1 columns]"
            ]
          },
          "metadata": {},
          "execution_count": 91
        }
      ]
    },
    {
      "cell_type": "code",
      "metadata": {
        "id": "184da1c7"
      },
      "source": [
        "data['Label'] = dataset['Label']"
      ],
      "id": "184da1c7",
      "execution_count": 92,
      "outputs": []
    },
    {
      "cell_type": "code",
      "metadata": {
        "id": "0f00d71c"
      },
      "source": [
        "data.columns = ['Text', 'Label']"
      ],
      "id": "0f00d71c",
      "execution_count": 95,
      "outputs": []
    },
    {
      "cell_type": "code",
      "metadata": {
        "id": "b5b68ac7"
      },
      "source": [
        "data_shuffled = data.sample(frac = 1)\n",
        "data_shuffled.head()\n",
        "df = data_shuffled.reset_index(drop=True)"
      ],
      "id": "b5b68ac7",
      "execution_count": 105,
      "outputs": []
    },
    {
      "cell_type": "code",
      "metadata": {
        "colab": {
          "base_uri": "https://localhost:8080/",
          "height": 202
        },
        "id": "9fa8bc1b",
        "outputId": "fa5288e7-b126-4b6f-8a3e-f0b25bcbf0f5"
      },
      "source": [
        "df.head()"
      ],
      "id": "9fa8bc1b",
      "execution_count": 106,
      "outputs": [
        {
          "output_type": "execute_result",
          "data": {
            "text/html": [
              "<div>\n",
              "<style scoped>\n",
              "    .dataframe tbody tr th:only-of-type {\n",
              "        vertical-align: middle;\n",
              "    }\n",
              "\n",
              "    .dataframe tbody tr th {\n",
              "        vertical-align: top;\n",
              "    }\n",
              "\n",
              "    .dataframe thead th {\n",
              "        text-align: right;\n",
              "    }\n",
              "</style>\n",
              "<table border=\"1\" class=\"dataframe\">\n",
              "  <thead>\n",
              "    <tr style=\"text-align: right;\">\n",
              "      <th></th>\n",
              "      <th>Text</th>\n",
              "      <th>Label</th>\n",
              "    </tr>\n",
              "  </thead>\n",
              "  <tbody>\n",
              "    <tr>\n",
              "      <th>0</th>\n",
              "      <td>11511001123_MATH F213_AUG_2021: Quiz 1 announc...</td>\n",
              "      <td>acads</td>\n",
              "    </tr>\n",
              "    <tr>\n",
              "      <th>1</th>\n",
              "      <td>Fresher Jobs recently postedHere are your netw...</td>\n",
              "      <td>alerts</td>\n",
              "    </tr>\n",
              "    <tr>\n",
              "      <th>2</th>\n",
              "      <td>11511001334_BITS F312_AUG_2021: Slides on ANN-...</td>\n",
              "      <td>alerts</td>\n",
              "    </tr>\n",
              "    <tr>\n",
              "      <th>3</th>\n",
              "      <td>Notice for Meera ResidentsSOCIETY FOR STUDENT ...</td>\n",
              "      <td>work</td>\n",
              "    </tr>\n",
              "    <tr>\n",
              "      <th>4</th>\n",
              "      <td>New Course Announcement: Applied Coding TrackP...</td>\n",
              "      <td>alerts</td>\n",
              "    </tr>\n",
              "  </tbody>\n",
              "</table>\n",
              "</div>"
            ],
            "text/plain": [
              "                                                Text   Label\n",
              "0  11511001123_MATH F213_AUG_2021: Quiz 1 announc...   acads\n",
              "1  Fresher Jobs recently postedHere are your netw...  alerts\n",
              "2  11511001334_BITS F312_AUG_2021: Slides on ANN-...  alerts\n",
              "3  Notice for Meera ResidentsSOCIETY FOR STUDENT ...    work\n",
              "4  New Course Announcement: Applied Coding TrackP...  alerts"
            ]
          },
          "metadata": {},
          "execution_count": 106
        }
      ]
    },
    {
      "cell_type": "markdown",
      "metadata": {
        "id": "78c2cf13"
      },
      "source": [
        "Text Preprocessing"
      ],
      "id": "78c2cf13"
    },
    {
      "cell_type": "code",
      "metadata": {
        "colab": {
          "base_uri": "https://localhost:8080/",
          "height": 153
        },
        "id": "43ba6949",
        "outputId": "6d96408e-90de-4dc3-bfeb-2a3ac0bfce31"
      },
      "source": [
        "df['Text'][0]"
      ],
      "id": "43ba6949",
      "execution_count": 107,
      "outputs": [
        {
          "output_type": "execute_result",
          "data": {
            "application/vnd.google.colaboratory.intrinsic+json": {
              "type": "string"
            },
            "text/plain": [
              "'11511001123_MATH F213_AUG_2021: Quiz 1 announcement11511001123_MATH F213_AUG_2021 <https://nalanda-aws.bits-pilani.ac.in/course/view.php?id=3138>  » Forums <https://nalanda-aws.bits-pilani.ac.in/mod/forum/index.php?id=3138>  » Announcements <https://nalanda-aws.bits-pilani.ac.in/mod/forum/view.php?f=5016>  » Quiz 1 announcement <https://nalanda-aws.bits-pilani.ac.in/mod/forum/discuss.php?d=2317>  \\r\\n <https://nalanda-aws.bits-pilani.ac.in/user/view.php?id=5657&course=3138>  \\tQuiz 1 announcement \\r\\nby Pradipkumar Haribhau Keskar . <https://nalanda-aws.bits-pilani.ac.in/user/view.php?id=5657&course=3138>  - Sunday, 26 September 2021, 11:01 AM \\r\\n  \\t\\r\\nThere is a change in plan regarding conduction of Quiz 1. \\r\\n\\r\\n1.       Quiz 1 will be an announced quiz. It will be conducted on Friday, 1-10-2021 at 10.00 AM (the regular class time).\\r\\n\\r\\n2.       The syllabus of the quiz 1 will be Module 1 (Lectures 1-5) of the handout, this is Sections 1.4, 1.5 and 1.6 of the text).\\r\\n\\r\\n3.       The quiz will be conducted on mettl platform. There is no need to log in google meet or google classroom.\\r\\n\\r\\n4.       The link to mettl will be sent to you in advance. You have to be logged on mettl mercer with videos on by 10.00 AM and remain there till you are asked to leave.  A (google form) link for the quiz will be provided in the announcement section of mettl.\\r\\n\\r\\n5.       The quiz will be closed book. Strict action will be taken if anyone is found consulting others or referring to any material, online or offline.\\r\\n\\r\\n6.       The weightage of the Quiz 1 is 35 marks and time allotted will be 30 minutes.\\r\\n\\r\\n\\r\\n\\r\\n\\r\\nP. H. Keskar, I-C MATH F213\\r\\n\\r\\n\\r\\nSee this post in context <https://nalanda-aws.bits-pilani.ac.in/mod/forum/discuss.php?d=2317#p2476> \\r\\n________________________________\\r\\n\\r\\nChange your forum digest preferences <https://nalanda-aws.bits-pilani.ac.in/mod/forum/index.php?id=3138>  \\r\\n\\r\\nReading this in an email? Download the mobile app and receive notifications on your mobile device <https://download.moodle.org/mobile?version=2020061501&lang=en&iosappid=633359593&androidappid=com.moodle.moodlemobile> .\\r\\n\\r\\n'"
            ]
          },
          "metadata": {},
          "execution_count": 107
        }
      ]
    },
    {
      "cell_type": "code",
      "metadata": {
        "colab": {
          "base_uri": "https://localhost:8080/",
          "height": 153
        },
        "id": "926493c3",
        "outputId": "2d9a6f01-d175-4e07-df60-249a701f5a5d"
      },
      "source": [
        "# Converting all to small chars\n",
        "df['Text'] = df['Text'].str.lower()\n",
        "df['Text'][0]"
      ],
      "id": "926493c3",
      "execution_count": 108,
      "outputs": [
        {
          "output_type": "execute_result",
          "data": {
            "application/vnd.google.colaboratory.intrinsic+json": {
              "type": "string"
            },
            "text/plain": [
              "'11511001123_math f213_aug_2021: quiz 1 announcement11511001123_math f213_aug_2021 <https://nalanda-aws.bits-pilani.ac.in/course/view.php?id=3138>  » forums <https://nalanda-aws.bits-pilani.ac.in/mod/forum/index.php?id=3138>  » announcements <https://nalanda-aws.bits-pilani.ac.in/mod/forum/view.php?f=5016>  » quiz 1 announcement <https://nalanda-aws.bits-pilani.ac.in/mod/forum/discuss.php?d=2317>  \\r\\n <https://nalanda-aws.bits-pilani.ac.in/user/view.php?id=5657&course=3138>  \\tquiz 1 announcement \\r\\nby pradipkumar haribhau keskar . <https://nalanda-aws.bits-pilani.ac.in/user/view.php?id=5657&course=3138>  - sunday, 26 september 2021, 11:01 am \\r\\n  \\t\\r\\nthere is a change in plan regarding conduction of quiz 1. \\r\\n\\r\\n1.       quiz 1 will be an announced quiz. it will be conducted on friday, 1-10-2021 at 10.00 am (the regular class time).\\r\\n\\r\\n2.       the syllabus of the quiz 1 will be module 1 (lectures 1-5) of the handout, this is sections 1.4, 1.5 and 1.6 of the text).\\r\\n\\r\\n3.       the quiz will be conducted on mettl platform. there is no need to log in google meet or google classroom.\\r\\n\\r\\n4.       the link to mettl will be sent to you in advance. you have to be logged on mettl mercer with videos on by 10.00 am and remain there till you are asked to leave.  a (google form) link for the quiz will be provided in the announcement section of mettl.\\r\\n\\r\\n5.       the quiz will be closed book. strict action will be taken if anyone is found consulting others or referring to any material, online or offline.\\r\\n\\r\\n6.       the weightage of the quiz 1 is 35 marks and time allotted will be 30 minutes.\\r\\n\\r\\n\\r\\n\\r\\n\\r\\np. h. keskar, i-c math f213\\r\\n\\r\\n\\r\\nsee this post in context <https://nalanda-aws.bits-pilani.ac.in/mod/forum/discuss.php?d=2317#p2476> \\r\\n________________________________\\r\\n\\r\\nchange your forum digest preferences <https://nalanda-aws.bits-pilani.ac.in/mod/forum/index.php?id=3138>  \\r\\n\\r\\nreading this in an email? download the mobile app and receive notifications on your mobile device <https://download.moodle.org/mobile?version=2020061501&lang=en&iosappid=633359593&androidappid=com.moodle.moodlemobile> .\\r\\n\\r\\n'"
            ]
          },
          "metadata": {},
          "execution_count": 108
        }
      ]
    },
    {
      "cell_type": "code",
      "metadata": {
        "colab": {
          "base_uri": "https://localhost:8080/",
          "height": 153
        },
        "id": "1c9b6ef9",
        "outputId": "b8045b3e-560e-488a-8ba8-9c02e7f7269e"
      },
      "source": [
        "# Removing punctuations\n",
        "import string\n",
        "def remove_punctuation(text):\n",
        "    return text.translate(str.maketrans('', '', string.punctuation))\n",
        "df['Text'] = df['Text'].apply(lambda text: remove_punctuation(text))\n",
        "df['Text'][0]"
      ],
      "id": "1c9b6ef9",
      "execution_count": 109,
      "outputs": [
        {
          "output_type": "execute_result",
          "data": {
            "application/vnd.google.colaboratory.intrinsic+json": {
              "type": "string"
            },
            "text/plain": [
              "'11511001123math f213aug2021 quiz 1 announcement11511001123math f213aug2021 httpsnalandaawsbitspilaniacincourseviewphpid3138  » forums httpsnalandaawsbitspilaniacinmodforumindexphpid3138  » announcements httpsnalandaawsbitspilaniacinmodforumviewphpf5016  » quiz 1 announcement httpsnalandaawsbitspilaniacinmodforumdiscussphpd2317  \\r\\n httpsnalandaawsbitspilaniacinuserviewphpid5657course3138  \\tquiz 1 announcement \\r\\nby pradipkumar haribhau keskar  httpsnalandaawsbitspilaniacinuserviewphpid5657course3138   sunday 26 september 2021 1101 am \\r\\n  \\t\\r\\nthere is a change in plan regarding conduction of quiz 1 \\r\\n\\r\\n1       quiz 1 will be an announced quiz it will be conducted on friday 1102021 at 1000 am the regular class time\\r\\n\\r\\n2       the syllabus of the quiz 1 will be module 1 lectures 15 of the handout this is sections 14 15 and 16 of the text\\r\\n\\r\\n3       the quiz will be conducted on mettl platform there is no need to log in google meet or google classroom\\r\\n\\r\\n4       the link to mettl will be sent to you in advance you have to be logged on mettl mercer with videos on by 1000 am and remain there till you are asked to leave  a google form link for the quiz will be provided in the announcement section of mettl\\r\\n\\r\\n5       the quiz will be closed book strict action will be taken if anyone is found consulting others or referring to any material online or offline\\r\\n\\r\\n6       the weightage of the quiz 1 is 35 marks and time allotted will be 30 minutes\\r\\n\\r\\n\\r\\n\\r\\n\\r\\np h keskar ic math f213\\r\\n\\r\\n\\r\\nsee this post in context httpsnalandaawsbitspilaniacinmodforumdiscussphpd2317p2476 \\r\\n\\r\\n\\r\\nchange your forum digest preferences httpsnalandaawsbitspilaniacinmodforumindexphpid3138  \\r\\n\\r\\nreading this in an email download the mobile app and receive notifications on your mobile device httpsdownloadmoodleorgmobileversion2020061501langeniosappid633359593androidappidcommoodlemoodlemobile \\r\\n\\r\\n'"
            ]
          },
          "metadata": {},
          "execution_count": 109
        }
      ]
    },
    {
      "cell_type": "code",
      "metadata": {
        "colab": {
          "base_uri": "https://localhost:8080/"
        },
        "id": "hp775Vbky6PS",
        "outputId": "ab5a3719-10aa-49d1-e0b9-bbca93466d0a"
      },
      "source": [
        "import nltk\n",
        "from nltk.corpus import stopwords\n",
        "nltk.download('stopwords')\n"
      ],
      "id": "hp775Vbky6PS",
      "execution_count": 110,
      "outputs": [
        {
          "output_type": "stream",
          "name": "stdout",
          "text": [
            "[nltk_data] Downloading package stopwords to /root/nltk_data...\n",
            "[nltk_data]   Package stopwords is already up-to-date!\n"
          ]
        },
        {
          "output_type": "execute_result",
          "data": {
            "text/plain": [
              "True"
            ]
          },
          "metadata": {},
          "execution_count": 110
        }
      ]
    },
    {
      "cell_type": "code",
      "metadata": {
        "colab": {
          "base_uri": "https://localhost:8080/",
          "height": 153
        },
        "id": "u8kPzzIhzvrq",
        "outputId": "65ced818-543a-44c3-ea18-c22c45264668"
      },
      "source": [
        "STOPWORDS = set(stopwords.words('english'))\n",
        "def remove_stopwords(text):\n",
        "    return \" \".join([word for word in str(text).split() if word not in STOPWORDS])\n",
        "df['Text']=df['Text'].apply(lambda text: remove_stopwords(text))\n",
        "df['Text'][0]\n"
      ],
      "id": "u8kPzzIhzvrq",
      "execution_count": 111,
      "outputs": [
        {
          "output_type": "execute_result",
          "data": {
            "application/vnd.google.colaboratory.intrinsic+json": {
              "type": "string"
            },
            "text/plain": [
              "'11511001123math f213aug2021 quiz 1 announcement11511001123math f213aug2021 httpsnalandaawsbitspilaniacincourseviewphpid3138 » forums httpsnalandaawsbitspilaniacinmodforumindexphpid3138 » announcements httpsnalandaawsbitspilaniacinmodforumviewphpf5016 » quiz 1 announcement httpsnalandaawsbitspilaniacinmodforumdiscussphpd2317 httpsnalandaawsbitspilaniacinuserviewphpid5657course3138 quiz 1 announcement pradipkumar haribhau keskar httpsnalandaawsbitspilaniacinuserviewphpid5657course3138 sunday 26 september 2021 1101 change plan regarding conduction quiz 1 1 quiz 1 announced quiz conducted friday 1102021 1000 regular class time 2 syllabus quiz 1 module 1 lectures 15 handout sections 14 15 16 text 3 quiz conducted mettl platform need log google meet google classroom 4 link mettl sent advance logged mettl mercer videos 1000 remain till asked leave google form link quiz provided announcement section mettl 5 quiz closed book strict action taken anyone found consulting others referring material online offline 6 weightage quiz 1 35 marks time allotted 30 minutes p h keskar ic math f213 see post context httpsnalandaawsbitspilaniacinmodforumdiscussphpd2317p2476 change forum digest preferences httpsnalandaawsbitspilaniacinmodforumindexphpid3138 reading email download mobile app receive notifications mobile device httpsdownloadmoodleorgmobileversion2020061501langeniosappid633359593androidappidcommoodlemoodlemobile'"
            ]
          },
          "metadata": {},
          "execution_count": 111
        }
      ]
    },
    {
      "cell_type": "code",
      "metadata": {
        "colab": {
          "base_uri": "https://localhost:8080/",
          "height": 153
        },
        "id": "AVSzZQiOz6nS",
        "outputId": "ded28705-1d4c-4e7c-93a4-825e0b646729"
      },
      "source": [
        "from nltk.stem.porter import PorterStemmer\n",
        "stemmer = PorterStemmer()\n",
        "def stem_words(text):\n",
        "    return \" \".join([stemmer.stem(word) for word in text.split()])\n",
        "df['Text']=df['Text'].apply(lambda text: stem_words(text))\n",
        "df['Text'][0]"
      ],
      "id": "AVSzZQiOz6nS",
      "execution_count": 112,
      "outputs": [
        {
          "output_type": "execute_result",
          "data": {
            "application/vnd.google.colaboratory.intrinsic+json": {
              "type": "string"
            },
            "text/plain": [
              "'11511001123math f213aug2021 quiz 1 announcement11511001123math f213aug2021 httpsnalandaawsbitspilaniacincourseviewphpid3138 » forum httpsnalandaawsbitspilaniacinmodforumindexphpid3138 » announc httpsnalandaawsbitspilaniacinmodforumviewphpf5016 » quiz 1 announc httpsnalandaawsbitspilaniacinmodforumdiscussphpd2317 httpsnalandaawsbitspilaniacinuserviewphpid5657course3138 quiz 1 announc pradipkumar haribhau keskar httpsnalandaawsbitspilaniacinuserviewphpid5657course3138 sunday 26 septemb 2021 1101 chang plan regard conduct quiz 1 1 quiz 1 announc quiz conduct friday 1102021 1000 regular class time 2 syllabu quiz 1 modul 1 lectur 15 handout section 14 15 16 text 3 quiz conduct mettl platform need log googl meet googl classroom 4 link mettl sent advanc log mettl mercer video 1000 remain till ask leav googl form link quiz provid announc section mettl 5 quiz close book strict action taken anyon found consult other refer materi onlin offlin 6 weightag quiz 1 35 mark time allot 30 minut p h keskar ic math f213 see post context httpsnalandaawsbitspilaniacinmodforumdiscussphpd2317p2476 chang forum digest prefer httpsnalandaawsbitspilaniacinmodforumindexphpid3138 read email download mobil app receiv notif mobil devic httpsdownloadmoodleorgmobileversion2020061501langeniosappid633359593androidappidcommoodlemoodlemobil'"
            ]
          },
          "metadata": {},
          "execution_count": 112
        }
      ]
    },
    {
      "cell_type": "code",
      "metadata": {
        "colab": {
          "base_uri": "https://localhost:8080/",
          "height": 415
        },
        "id": "KrGhWPq50V1S",
        "outputId": "0fce0cde-9eff-4f6e-c39c-1bff2bf18b82"
      },
      "source": [
        "df"
      ],
      "id": "KrGhWPq50V1S",
      "execution_count": 113,
      "outputs": [
        {
          "output_type": "execute_result",
          "data": {
            "text/html": [
              "<div>\n",
              "<style scoped>\n",
              "    .dataframe tbody tr th:only-of-type {\n",
              "        vertical-align: middle;\n",
              "    }\n",
              "\n",
              "    .dataframe tbody tr th {\n",
              "        vertical-align: top;\n",
              "    }\n",
              "\n",
              "    .dataframe thead th {\n",
              "        text-align: right;\n",
              "    }\n",
              "</style>\n",
              "<table border=\"1\" class=\"dataframe\">\n",
              "  <thead>\n",
              "    <tr style=\"text-align: right;\">\n",
              "      <th></th>\n",
              "      <th>Text</th>\n",
              "      <th>Label</th>\n",
              "    </tr>\n",
              "  </thead>\n",
              "  <tbody>\n",
              "    <tr>\n",
              "      <th>0</th>\n",
              "      <td>11511001123math f213aug2021 quiz 1 announcemen...</td>\n",
              "      <td>acads</td>\n",
              "    </tr>\n",
              "    <tr>\n",
              "      <th>1</th>\n",
              "      <td>fresher job recent postedher network highlight...</td>\n",
              "      <td>alerts</td>\n",
              "    </tr>\n",
              "    <tr>\n",
              "      <th>2</th>\n",
              "      <td>11511001334bit f312aug2021 slide ann8115110013...</td>\n",
              "      <td>alerts</td>\n",
              "    </tr>\n",
              "    <tr>\n",
              "      <th>3</th>\n",
              "      <td>notic meera residentssocieti student mess serv...</td>\n",
              "      <td>work</td>\n",
              "    </tr>\n",
              "    <tr>\n",
              "      <th>4</th>\n",
              "      <td>new cours announc appli code trackplac hi folk...</td>\n",
              "      <td>alerts</td>\n",
              "    </tr>\n",
              "    <tr>\n",
              "      <th>...</th>\n",
              "      <td>...</td>\n",
              "      <td>...</td>\n",
              "    </tr>\n",
              "    <tr>\n",
              "      <th>1128</th>\n",
              "      <td>📷 ishita singhal recent post new photo abdul h...</td>\n",
              "      <td>network</td>\n",
              "    </tr>\n",
              "    <tr>\n",
              "      <th>1129</th>\n",
              "      <td>13 new job research assistantview job asia ‌ ‌...</td>\n",
              "      <td>alerts</td>\n",
              "    </tr>\n",
              "    <tr>\n",
              "      <th>1130</th>\n",
              "      <td>item share dme class f314mf f314 20210930 2237...</td>\n",
              "      <td>alerts</td>\n",
              "    </tr>\n",
              "    <tr>\n",
              "      <th>1131</th>\n",
              "      <td>reinforc brand imageread new post blog design ...</td>\n",
              "      <td>advertisements</td>\n",
              "    </tr>\n",
              "    <tr>\n",
              "      <th>1132</th>\n",
              "      <td>www lab quiz9 httpswwwgstaticcomdocsformsgoogl...</td>\n",
              "      <td>acads</td>\n",
              "    </tr>\n",
              "  </tbody>\n",
              "</table>\n",
              "<p>1133 rows × 2 columns</p>\n",
              "</div>"
            ],
            "text/plain": [
              "                                                   Text           Label\n",
              "0     11511001123math f213aug2021 quiz 1 announcemen...           acads\n",
              "1     fresher job recent postedher network highlight...          alerts\n",
              "2     11511001334bit f312aug2021 slide ann8115110013...          alerts\n",
              "3     notic meera residentssocieti student mess serv...            work\n",
              "4     new cours announc appli code trackplac hi folk...          alerts\n",
              "...                                                 ...             ...\n",
              "1128  📷 ishita singhal recent post new photo abdul h...         network\n",
              "1129  13 new job research assistantview job asia ‌ ‌...          alerts\n",
              "1130  item share dme class f314mf f314 20210930 2237...          alerts\n",
              "1131  reinforc brand imageread new post blog design ...  advertisements\n",
              "1132  www lab quiz9 httpswwwgstaticcomdocsformsgoogl...           acads\n",
              "\n",
              "[1133 rows x 2 columns]"
            ]
          },
          "metadata": {},
          "execution_count": 113
        }
      ]
    },
    {
      "cell_type": "code",
      "metadata": {
        "colab": {
          "base_uri": "https://localhost:8080/",
          "height": 118
        },
        "id": "7dddecae",
        "outputId": "0b98ed9a-a0f9-4312-f863-b332bf0e7e11"
      },
      "source": [
        "import re\n",
        "def remove_special(text):\n",
        "    text = re.sub(r\"»\",'',text)\n",
        "    text = re.sub(r\"what's\", \"what is \", text)\n",
        "    text = re.sub(r\"\\'s\", \" \", text)\n",
        "    text = re.sub(r\"\\'ve\", \" have \", text)\n",
        "    text = re.sub(r\"can't\", \"cannot \", text)\n",
        "    text = re.sub(r\"n't\", \" not \", text)\n",
        "    text = re.sub(r\"i'm\", \"i am \", text)\n",
        "    text = re.sub(r\"\\'re\", \" are \", text)\n",
        "    text = re.sub(r\"\\'d\", \" would \", text)\n",
        "    text = re.sub(r\"\\'ll\", \" will \", text)\n",
        "    text = re.sub(r\"\\'scuse\", \" excuse \", text)\n",
        "    text = re.sub('\\W', ' ', text)\n",
        "    text = re.sub('\\s+', ' ', text)\n",
        "    text = re.sub(r'http\\S+', ' ', text)\n",
        "    text = re.sub('http[s]?://(?:[a-zA-Z]|[0-9]|[$-_@.&+]|[!*\\(\\),]|(?:%[0-9a-fA-F][0-9a-fA-F]))+', '', text)\n",
        "    text = re.sub(r'[0-9]',' ',text)\n",
        "#    text = text.strip('\\n')\n",
        "    text = text.strip('\\\\')\n",
        "    text=re.sub('[^A-Za-z0-9]+', ' ', text)\n",
        "    text=re.sub(r\"\\([^()]*\\)\", \" \", text)\n",
        "    text = text.strip('')\n",
        "    return text\n",
        "df['Text'] = df['Text'].apply(lambda text: remove_special(text))\n",
        "df['Text'][0]\n",
        "# a=remove_special(\"abkjbdf/7327dc( jg55kb/db )jgv1255\")\n",
        "# b=remove_special(\"electr machin (eee f211/instr f211)\")\n",
        "\n",
        "\n",
        "# print(a)\n",
        "# print(b)"
      ],
      "id": "7dddecae",
      "execution_count": 114,
      "outputs": [
        {
          "output_type": "execute_result",
          "data": {
            "application/vnd.google.colaboratory.intrinsic+json": {
              "type": "string"
            },
            "text/plain": [
              "' math f aug quiz announcement math f aug forum announc quiz announc quiz announc pradipkumar haribhau keskar sunday septemb chang plan regard conduct quiz quiz announc quiz conduct friday regular class time syllabu quiz modul lectur handout section text quiz conduct mettl platform need log googl meet googl classroom link mettl sent advanc log mettl mercer video remain till ask leav googl form link quiz provid announc section mettl quiz close book strict action taken anyon found consult other refer materi onlin offlin weightag quiz mark time allot minut p h keskar ic math f see post context chang forum digest prefer read email download mobil app receiv notif mobil devic '"
            ]
          },
          "metadata": {},
          "execution_count": 114
        }
      ]
    },
    {
      "cell_type": "code",
      "metadata": {
        "colab": {
          "base_uri": "https://localhost:8080/",
          "height": 118
        },
        "id": "cVYwRGuB0bUR",
        "outputId": "4113a97d-5095-4faf-8f3a-78c4d5ec0758"
      },
      "source": [
        "df['Text'][0]"
      ],
      "id": "cVYwRGuB0bUR",
      "execution_count": 115,
      "outputs": [
        {
          "output_type": "execute_result",
          "data": {
            "application/vnd.google.colaboratory.intrinsic+json": {
              "type": "string"
            },
            "text/plain": [
              "' math f aug quiz announcement math f aug forum announc quiz announc quiz announc pradipkumar haribhau keskar sunday septemb chang plan regard conduct quiz quiz announc quiz conduct friday regular class time syllabu quiz modul lectur handout section text quiz conduct mettl platform need log googl meet googl classroom link mettl sent advanc log mettl mercer video remain till ask leav googl form link quiz provid announc section mettl quiz close book strict action taken anyon found consult other refer materi onlin offlin weightag quiz mark time allot minut p h keskar ic math f see post context chang forum digest prefer read email download mobil app receiv notif mobil devic '"
            ]
          },
          "metadata": {},
          "execution_count": 115
        }
      ]
    },
    {
      "cell_type": "markdown",
      "metadata": {
        "id": "388c81cc"
      },
      "source": [
        "Label Encoding"
      ],
      "id": "388c81cc"
    },
    {
      "cell_type": "code",
      "metadata": {
        "id": "a44c1ae8"
      },
      "source": [
        "from sklearn import preprocessing"
      ],
      "id": "a44c1ae8",
      "execution_count": 116,
      "outputs": []
    },
    {
      "cell_type": "code",
      "metadata": {
        "id": "38864d03"
      },
      "source": [
        "label_encoder = preprocessing.LabelEncoder()"
      ],
      "id": "38864d03",
      "execution_count": 117,
      "outputs": []
    },
    {
      "cell_type": "code",
      "metadata": {
        "colab": {
          "base_uri": "https://localhost:8080/"
        },
        "id": "0c7a68c0",
        "outputId": "494d5430-1c22-4c08-a04c-011623dc7f4a"
      },
      "source": [
        "df['Label'].unique()"
      ],
      "id": "0c7a68c0",
      "execution_count": 118,
      "outputs": [
        {
          "output_type": "execute_result",
          "data": {
            "text/plain": [
              "array(['acads', 'alerts', 'work', 'miscellaneous', 'advertisements',\n",
              "       'network'], dtype=object)"
            ]
          },
          "metadata": {},
          "execution_count": 118
        }
      ]
    },
    {
      "cell_type": "code",
      "metadata": {
        "colab": {
          "base_uri": "https://localhost:8080/"
        },
        "id": "a81b3ba6",
        "outputId": "112d6944-6e39-4268-8611-15bf106a9985"
      },
      "source": [
        "df['Label'] = label_encoder.fit_transform(df['Label'])\n",
        "df['Label'].unique()"
      ],
      "id": "a81b3ba6",
      "execution_count": 119,
      "outputs": [
        {
          "output_type": "execute_result",
          "data": {
            "text/plain": [
              "array([0, 2, 5, 3, 1, 4])"
            ]
          },
          "metadata": {},
          "execution_count": 119
        }
      ]
    },
    {
      "cell_type": "code",
      "metadata": {
        "colab": {
          "base_uri": "https://localhost:8080/"
        },
        "id": "86523a4e",
        "outputId": "e2d99eb2-b06f-4f32-900b-ce6ae6f3aacc"
      },
      "source": [
        "df['Label'].describe()"
      ],
      "id": "86523a4e",
      "execution_count": 120,
      "outputs": [
        {
          "output_type": "execute_result",
          "data": {
            "text/plain": [
              "count    1133.000000\n",
              "mean        2.372462\n",
              "std         1.790932\n",
              "min         0.000000\n",
              "25%         1.000000\n",
              "50%         2.000000\n",
              "75%         4.000000\n",
              "max         5.000000\n",
              "Name: Label, dtype: float64"
            ]
          },
          "metadata": {},
          "execution_count": 120
        }
      ]
    },
    {
      "cell_type": "code",
      "metadata": {
        "colab": {
          "base_uri": "https://localhost:8080/"
        },
        "id": "lFbD4_KHGA8H",
        "outputId": "70c94b56-ad43-45cb-bc24-0c51bf6d2559"
      },
      "source": [
        "df['Label'].value_counts()"
      ],
      "id": "lFbD4_KHGA8H",
      "execution_count": 121,
      "outputs": [
        {
          "output_type": "execute_result",
          "data": {
            "text/plain": [
              "0    226\n",
              "1    214\n",
              "4    203\n",
              "2    200\n",
              "5    196\n",
              "3     94\n",
              "Name: Label, dtype: int64"
            ]
          },
          "metadata": {},
          "execution_count": 121
        }
      ]
    },
    {
      "cell_type": "code",
      "metadata": {
        "colab": {
          "base_uri": "https://localhost:8080/",
          "height": 1000
        },
        "id": "5654cf01",
        "outputId": "8fb2ca7e-b863-4797-8dec-fd11a0492fab"
      },
      "source": [
        "df.head(50)"
      ],
      "id": "5654cf01",
      "execution_count": 122,
      "outputs": [
        {
          "output_type": "execute_result",
          "data": {
            "text/html": [
              "<div>\n",
              "<style scoped>\n",
              "    .dataframe tbody tr th:only-of-type {\n",
              "        vertical-align: middle;\n",
              "    }\n",
              "\n",
              "    .dataframe tbody tr th {\n",
              "        vertical-align: top;\n",
              "    }\n",
              "\n",
              "    .dataframe thead th {\n",
              "        text-align: right;\n",
              "    }\n",
              "</style>\n",
              "<table border=\"1\" class=\"dataframe\">\n",
              "  <thead>\n",
              "    <tr style=\"text-align: right;\">\n",
              "      <th></th>\n",
              "      <th>Text</th>\n",
              "      <th>Label</th>\n",
              "    </tr>\n",
              "  </thead>\n",
              "  <tbody>\n",
              "    <tr>\n",
              "      <th>0</th>\n",
              "      <td>math f aug quiz announcement math f aug forum...</td>\n",
              "      <td>0</td>\n",
              "    </tr>\n",
              "    <tr>\n",
              "      <th>1</th>\n",
              "      <td>fresher job recent postedher network highlight...</td>\n",
              "      <td>2</td>\n",
              "    </tr>\n",
              "    <tr>\n",
              "      <th>2</th>\n",
              "      <td>bit f aug slide ann bit f aug forum announc s...</td>\n",
              "      <td>2</td>\n",
              "    </tr>\n",
              "    <tr>\n",
              "      <th>3</th>\n",
              "      <td>notic meera residentssocieti student mess serv...</td>\n",
              "      <td>5</td>\n",
              "    </tr>\n",
              "    <tr>\n",
              "      <th>4</th>\n",
              "      <td>new cours announc appli code trackplac hi folk...</td>\n",
              "      <td>2</td>\n",
              "    </tr>\n",
              "    <tr>\n",
              "      <th>5</th>\n",
              "      <td>new job analystview job north america abdul r...</td>\n",
              "      <td>2</td>\n",
              "    </tr>\n",
              "    <tr>\n",
              "      <th>6</th>\n",
              "      <td>student leav report portaldear colleagu refer ...</td>\n",
              "      <td>0</td>\n",
              "    </tr>\n",
              "    <tr>\n",
              "      <th>7</th>\n",
              "      <td>new job analyst view job hyderabad telangana ...</td>\n",
              "      <td>2</td>\n",
              "    </tr>\n",
              "    <tr>\n",
              "      <th>8</th>\n",
              "      <td>regard studi projectsir could pleas give permi...</td>\n",
              "      <td>3</td>\n",
              "    </tr>\n",
              "    <tr>\n",
              "      <th>9</th>\n",
              "      <td>commun digest fri oct commun digest fri oct ta...</td>\n",
              "      <td>5</td>\n",
              "    </tr>\n",
              "    <tr>\n",
              "      <th>10</th>\n",
              "      <td>stuck kabul i kabul airport fire happen ask le...</td>\n",
              "      <td>1</td>\n",
              "    </tr>\n",
              "    <tr>\n",
              "      <th>11</th>\n",
              "      <td>me f aug midsem exam announcement m f aug for...</td>\n",
              "      <td>0</td>\n",
              "    </tr>\n",
              "    <tr>\n",
              "      <th>12</th>\n",
              "      <td>gain skill need land new roleyouv taken first ...</td>\n",
              "      <td>0</td>\n",
              "    </tr>\n",
              "    <tr>\n",
              "      <th>13</th>\n",
              "      <td>leetcod weekli digest hello need insight appro...</td>\n",
              "      <td>1</td>\n",
              "    </tr>\n",
              "    <tr>\n",
              "      <th>14</th>\n",
              "      <td>join us datacentr ai realworld approaches andr...</td>\n",
              "      <td>1</td>\n",
              "    </tr>\n",
              "    <tr>\n",
              "      <th>15</th>\n",
              "      <td>student academ cell recruitmentsgreet student ...</td>\n",
              "      <td>5</td>\n",
              "    </tr>\n",
              "    <tr>\n",
              "      <th>16</th>\n",
              "      <td>book coupon day redeemsnag back school saving...</td>\n",
              "      <td>1</td>\n",
              "    </tr>\n",
              "    <tr>\n",
              "      <th>17</th>\n",
              "      <td>bhavana narapareddi birthday today abdul help...</td>\n",
              "      <td>4</td>\n",
              "    </tr>\n",
              "    <tr>\n",
              "      <th>18</th>\n",
              "      <td>document abdul razzaqeamcet hall ticketpdf</td>\n",
              "      <td>3</td>\n",
              "    </tr>\n",
              "    <tr>\n",
              "      <th>19</th>\n",
              "      <td>introduc month tech coursesour student ask lis...</td>\n",
              "      <td>1</td>\n",
              "    </tr>\n",
              "    <tr>\n",
              "      <th>20</th>\n",
              "      <td>regard thesisgood even sir abdul razzaq id a p...</td>\n",
              "      <td>3</td>\n",
              "    </tr>\n",
              "    <tr>\n",
              "      <th>21</th>\n",
              "      <td>bit f aug correct midsem marks bit f aug foru...</td>\n",
              "      <td>0</td>\n",
              "    </tr>\n",
              "    <tr>\n",
              "      <th>22</th>\n",
              "      <td>econ fin f concern quiz ii schedul syllabusdea...</td>\n",
              "      <td>0</td>\n",
              "    </tr>\n",
              "    <tr>\n",
              "      <th>23</th>\n",
              "      <td>ken connectedse ken connect experi abdul razza...</td>\n",
              "      <td>4</td>\n",
              "    </tr>\n",
              "    <tr>\n",
              "      <th>24</th>\n",
              "      <td>regard ask concess feeshello abdul realli apol...</td>\n",
              "      <td>3</td>\n",
              "    </tr>\n",
              "    <tr>\n",
              "      <th>25</th>\n",
              "      <td>send messagese vashisht connect experi abdul r...</td>\n",
              "      <td>4</td>\n",
              "    </tr>\n",
              "    <tr>\n",
              "      <th>26</th>\n",
              "      <td>enrol coursedear user greet bit pilani pilani ...</td>\n",
              "      <td>1</td>\n",
              "    </tr>\n",
              "    <tr>\n",
              "      <th>27</th>\n",
              "      <td>call startup l mentor fund l pie tbi bit pilan...</td>\n",
              "      <td>5</td>\n",
              "    </tr>\n",
              "    <tr>\n",
              "      <th>28</th>\n",
              "      <td>webinar use jove classroomdear webinar entitl ...</td>\n",
              "      <td>5</td>\n",
              "    </tr>\n",
              "    <tr>\n",
              "      <th>29</th>\n",
              "      <td>abdul pick recommend match near find kind shal...</td>\n",
              "      <td>1</td>\n",
              "    </tr>\n",
              "    <tr>\n",
              "      <th>30</th>\n",
              "      <td>cpt precompredear student greet pleas find att...</td>\n",
              "      <td>0</td>\n",
              "    </tr>\n",
              "    <tr>\n",
              "      <th>31</th>\n",
              "      <td>new job research assistantview job asia abdul...</td>\n",
              "      <td>2</td>\n",
              "    </tr>\n",
              "    <tr>\n",
              "      <th>32</th>\n",
              "      <td>math f aug notic quiz math f aug forum announ...</td>\n",
              "      <td>0</td>\n",
              "    </tr>\n",
              "    <tr>\n",
              "      <th>33</th>\n",
              "      <td>sy suleman birthday today abdul help sy celeb...</td>\n",
              "      <td>4</td>\n",
              "    </tr>\n",
              "    <tr>\n",
              "      <th>34</th>\n",
              "      <td>new materi slide ii hi abdul divyum sharma pos...</td>\n",
              "      <td>2</td>\n",
              "    </tr>\n",
              "    <tr>\n",
              "      <th>35</th>\n",
              "      <td>breast cancer awar resourc youstart spread awa...</td>\n",
              "      <td>1</td>\n",
              "    </tr>\n",
              "    <tr>\n",
              "      <th>36</th>\n",
              "      <td>pumpkin spice everyth nice treat latest trail...</td>\n",
              "      <td>1</td>\n",
              "    </tr>\n",
              "    <tr>\n",
              "      <th>37</th>\n",
              "      <td>bit f aug midsem model solut optim portion bi...</td>\n",
              "      <td>0</td>\n",
              "    </tr>\n",
              "    <tr>\n",
              "      <th>38</th>\n",
              "      <td>enrol coursedear user greet bit pilani pilani ...</td>\n",
              "      <td>1</td>\n",
              "    </tr>\n",
              "    <tr>\n",
              "      <th>39</th>\n",
              "      <td>cisco reson th edit invit th nov pm onward reg...</td>\n",
              "      <td>5</td>\n",
              "    </tr>\n",
              "    <tr>\n",
              "      <th>40</th>\n",
              "      <td>harshiel messag abdul razzaq new messag await ...</td>\n",
              "      <td>2</td>\n",
              "    </tr>\n",
              "    <tr>\n",
              "      <th>41</th>\n",
              "      <td>teja rock j s in u other birthday today abdul...</td>\n",
              "      <td>4</td>\n",
              "    </tr>\n",
              "    <tr>\n",
              "      <th>42</th>\n",
              "      <td>thank respons siri may base robot sir want lea...</td>\n",
              "      <td>3</td>\n",
              "    </tr>\n",
              "    <tr>\n",
              "      <th>43</th>\n",
              "      <td>new job analystview job hyderabad telangana i...</td>\n",
              "      <td>2</td>\n",
              "    </tr>\n",
              "    <tr>\n",
              "      <th>44</th>\n",
              "      <td>commun digest fri oct commun digest fri oct ta...</td>\n",
              "      <td>5</td>\n",
              "    </tr>\n",
              "    <tr>\n",
              "      <th>45</th>\n",
              "      <td>bit f aug assign date extend till th nov bit ...</td>\n",
              "      <td>2</td>\n",
              "    </tr>\n",
              "    <tr>\n",
              "      <th>46</th>\n",
              "      <td>enrol coursedear user greet bit pilani pilani ...</td>\n",
              "      <td>1</td>\n",
              "    </tr>\n",
              "    <tr>\n",
              "      <th>47</th>\n",
              "      <td>lakshman bantup post firewallzse post lakshman...</td>\n",
              "      <td>4</td>\n",
              "    </tr>\n",
              "    <tr>\n",
              "      <th>48</th>\n",
              "      <td>refirst may agre propos unless convinc knowled...</td>\n",
              "      <td>3</td>\n",
              "    </tr>\n",
              "    <tr>\n",
              "      <th>49</th>\n",
              "      <td>f mf f class physic class room event chang f m...</td>\n",
              "      <td>2</td>\n",
              "    </tr>\n",
              "  </tbody>\n",
              "</table>\n",
              "</div>"
            ],
            "text/plain": [
              "                                                 Text  Label\n",
              "0    math f aug quiz announcement math f aug forum...      0\n",
              "1   fresher job recent postedher network highlight...      2\n",
              "2    bit f aug slide ann bit f aug forum announc s...      2\n",
              "3   notic meera residentssocieti student mess serv...      5\n",
              "4   new cours announc appli code trackplac hi folk...      2\n",
              "5    new job analystview job north america abdul r...      2\n",
              "6   student leav report portaldear colleagu refer ...      0\n",
              "7    new job analyst view job hyderabad telangana ...      2\n",
              "8   regard studi projectsir could pleas give permi...      3\n",
              "9   commun digest fri oct commun digest fri oct ta...      5\n",
              "10  stuck kabul i kabul airport fire happen ask le...      1\n",
              "11   me f aug midsem exam announcement m f aug for...      0\n",
              "12  gain skill need land new roleyouv taken first ...      0\n",
              "13  leetcod weekli digest hello need insight appro...      1\n",
              "14  join us datacentr ai realworld approaches andr...      1\n",
              "15  student academ cell recruitmentsgreet student ...      5\n",
              "16   book coupon day redeemsnag back school saving...      1\n",
              "17   bhavana narapareddi birthday today abdul help...      4\n",
              "18         document abdul razzaqeamcet hall ticketpdf      3\n",
              "19  introduc month tech coursesour student ask lis...      1\n",
              "20  regard thesisgood even sir abdul razzaq id a p...      3\n",
              "21   bit f aug correct midsem marks bit f aug foru...      0\n",
              "22  econ fin f concern quiz ii schedul syllabusdea...      0\n",
              "23  ken connectedse ken connect experi abdul razza...      4\n",
              "24  regard ask concess feeshello abdul realli apol...      3\n",
              "25  send messagese vashisht connect experi abdul r...      4\n",
              "26  enrol coursedear user greet bit pilani pilani ...      1\n",
              "27  call startup l mentor fund l pie tbi bit pilan...      5\n",
              "28  webinar use jove classroomdear webinar entitl ...      5\n",
              "29  abdul pick recommend match near find kind shal...      1\n",
              "30  cpt precompredear student greet pleas find att...      0\n",
              "31   new job research assistantview job asia abdul...      2\n",
              "32   math f aug notic quiz math f aug forum announ...      0\n",
              "33   sy suleman birthday today abdul help sy celeb...      4\n",
              "34  new materi slide ii hi abdul divyum sharma pos...      2\n",
              "35  breast cancer awar resourc youstart spread awa...      1\n",
              "36   pumpkin spice everyth nice treat latest trail...      1\n",
              "37   bit f aug midsem model solut optim portion bi...      0\n",
              "38  enrol coursedear user greet bit pilani pilani ...      1\n",
              "39  cisco reson th edit invit th nov pm onward reg...      5\n",
              "40  harshiel messag abdul razzaq new messag await ...      2\n",
              "41   teja rock j s in u other birthday today abdul...      4\n",
              "42  thank respons siri may base robot sir want lea...      3\n",
              "43   new job analystview job hyderabad telangana i...      2\n",
              "44  commun digest fri oct commun digest fri oct ta...      5\n",
              "45   bit f aug assign date extend till th nov bit ...      2\n",
              "46  enrol coursedear user greet bit pilani pilani ...      1\n",
              "47  lakshman bantup post firewallzse post lakshman...      4\n",
              "48  refirst may agre propos unless convinc knowled...      3\n",
              "49  f mf f class physic class room event chang f m...      2"
            ]
          },
          "metadata": {},
          "execution_count": 122
        }
      ]
    },
    {
      "cell_type": "markdown",
      "metadata": {
        "id": "06f414cc"
      },
      "source": [
        "Splitting training and testing"
      ],
      "id": "06f414cc"
    },
    {
      "cell_type": "code",
      "metadata": {
        "id": "3ad30164"
      },
      "source": [
        "from sklearn.model_selection import train_test_split\n",
        "X_train, X_test, y_train, y_test = train_test_split(df['Text'], df['Label'], test_size = 0.3, random_state = 20)"
      ],
      "id": "3ad30164",
      "execution_count": 123,
      "outputs": []
    },
    {
      "cell_type": "markdown",
      "metadata": {
        "id": "a61bdfea"
      },
      "source": [
        "Feature Extraction"
      ],
      "id": "a61bdfea"
    },
    {
      "cell_type": "code",
      "metadata": {
        "colab": {
          "base_uri": "https://localhost:8080/"
        },
        "id": "80fe97e4",
        "outputId": "30f13beb-0e29-470b-92ae-79cfc3ec919e"
      },
      "source": [
        "from sklearn.feature_extraction.text import CountVectorizer\n",
        "from sklearn.feature_extraction.text import TfidfVectorizer\n",
        "cv=TfidfVectorizer(ngram_range=(1,4))\n",
        "cv.fit(X_train)"
      ],
      "id": "80fe97e4",
      "execution_count": 124,
      "outputs": [
        {
          "output_type": "execute_result",
          "data": {
            "text/plain": [
              "TfidfVectorizer(analyzer='word', binary=False, decode_error='strict',\n",
              "                dtype=<class 'numpy.float64'>, encoding='utf-8',\n",
              "                input='content', lowercase=True, max_df=1.0, max_features=None,\n",
              "                min_df=1, ngram_range=(1, 4), norm='l2', preprocessor=None,\n",
              "                smooth_idf=True, stop_words=None, strip_accents=None,\n",
              "                sublinear_tf=False, token_pattern='(?u)\\\\b\\\\w\\\\w+\\\\b',\n",
              "                tokenizer=None, use_idf=True, vocabulary=None)"
            ]
          },
          "metadata": {},
          "execution_count": 124
        }
      ]
    },
    {
      "cell_type": "code",
      "metadata": {
        "colab": {
          "base_uri": "https://localhost:8080/"
        },
        "id": "66978233",
        "outputId": "c1d4e989-4475-4572-b0f8-685492baf118"
      },
      "source": [
        "X_train_transformed = cv.transform(X_train)\n",
        "# X_train_transformed = X_train_transformed.toarray()\n",
        "type(X_train_transformed)"
      ],
      "id": "66978233",
      "execution_count": 125,
      "outputs": [
        {
          "output_type": "execute_result",
          "data": {
            "text/plain": [
              "scipy.sparse.csr.csr_matrix"
            ]
          },
          "metadata": {},
          "execution_count": 125
        }
      ]
    },
    {
      "cell_type": "markdown",
      "metadata": {
        "id": "a05aa1be"
      },
      "source": [
        "Model Selection"
      ],
      "id": "a05aa1be"
    },
    {
      "cell_type": "code",
      "metadata": {
        "id": "0c979386"
      },
      "source": [
        "from sklearn.model_selection import train_test_split\n",
        "from sklearn.ensemble import RandomForestClassifier\n",
        "from sklearn.naive_bayes import MultinomialNB\n",
        "from sklearn.linear_model import LogisticRegression\n",
        "from sklearn.neighbors import KNeighborsClassifier\n",
        "from sklearn.tree import DecisionTreeClassifier\n",
        "from sklearn.svm import LinearSVC, SVC\n",
        "from time import perf_counter\n",
        "import warnings"
      ],
      "id": "0c979386",
      "execution_count": 126,
      "outputs": []
    },
    {
      "cell_type": "code",
      "metadata": {
        "colab": {
          "base_uri": "https://localhost:8080/"
        },
        "id": "5FpxGzZuQRZn",
        "outputId": "f494ef10-29f9-4040-c5e0-d009e3288690"
      },
      "source": [
        "# DECISION TREE \n",
        "from sklearn.metrics import accuracy_score\n",
        "start = perf_counter()\n",
        "DT=DecisionTreeClassifier()\n",
        "DT.fit(X_train_transformed, y_train)\n",
        "duration = perf_counter() - start\n",
        "duration = round(duration,2)\n",
        "print(f\"DECISION TREE trained in {duration}\")\n",
        "X_test_transformed = cv.transform(X_test)\n",
        "y_pred=DT.predict(X_test_transformed)\n",
        "DT_accuracy=accuracy_score(y_test, y_pred)\n",
        "print(accuracy_score(y_test, y_pred))\n",
        "print(DT.score(X_test_transformed,y_test))\n"
      ],
      "id": "5FpxGzZuQRZn",
      "execution_count": 128,
      "outputs": [
        {
          "output_type": "stream",
          "name": "stdout",
          "text": [
            "DECISION TREE trained in 1.6\n",
            "0.8558823529411764\n",
            "0.8558823529411764\n"
          ]
        }
      ]
    },
    {
      "cell_type": "code",
      "metadata": {
        "colab": {
          "base_uri": "https://localhost:8080/"
        },
        "id": "pG4xPaL0VKk3",
        "outputId": "dd80907b-bdc7-4e87-fb02-4ed0bf6c6be7"
      },
      "source": [
        "#SVM(Linear)\n",
        "lvm=LinearSVC()\n",
        "lvm.fit(X_train_transformed, y_train)\n",
        "duration = perf_counter() - start\n",
        "duration = round(duration,2)\n",
        "print(f\"LINEAR SVM trained in {duration}\")\n",
        "X_test_transformed = cv.transform(X_test)\n",
        "y_pred=lvm.predict(X_test_transformed)\n",
        "lvm_accuracy=accuracy_score(y_test, y_pred)\n",
        "print(accuracy_score(y_test, y_pred))\n",
        "print(lvm.score(X_test_transformed,y_test))\n",
        "\n"
      ],
      "id": "pG4xPaL0VKk3",
      "execution_count": 129,
      "outputs": [
        {
          "output_type": "stream",
          "name": "stdout",
          "text": [
            "LINEAR SVM trained in 12.94\n",
            "0.9176470588235294\n",
            "0.9176470588235294\n"
          ]
        }
      ]
    },
    {
      "cell_type": "code",
      "metadata": {
        "colab": {
          "base_uri": "https://localhost:8080/"
        },
        "id": "WPS5tw22WCP9",
        "outputId": "f97cac61-c956-4152-947b-750ac1eddb5d"
      },
      "source": [
        "# RBF SVM\n",
        "rbf_svm=SVC()\n",
        "rbf_svm.fit(X_train_transformed, y_train)\n",
        "duration = perf_counter() - start\n",
        "duration = round(duration,2)\n",
        "print(f\"RBF SVM trained in {duration}\")\n",
        "X_test_transformed = cv.transform(X_test)\n",
        "y_pred=rbf_svm.predict(X_test_transformed)\n",
        "rbf_svm_accuracy=accuracy_score(y_test, y_pred)\n",
        "print(accuracy_score(y_test, y_pred))\n",
        "print(rbf_svm.score(X_test_transformed,y_test))\n",
        "\n",
        "\n",
        "\n",
        "\n"
      ],
      "id": "WPS5tw22WCP9",
      "execution_count": 130,
      "outputs": [
        {
          "output_type": "stream",
          "name": "stdout",
          "text": [
            "RBF SVM trained in 49.08\n",
            "0.888235294117647\n",
            "0.888235294117647\n"
          ]
        }
      ]
    },
    {
      "cell_type": "code",
      "metadata": {
        "colab": {
          "base_uri": "https://localhost:8080/"
        },
        "id": "7dZ5ZCcMcuU2",
        "outputId": "405bb617-8e9f-47cf-b9d0-b7a41161872b"
      },
      "source": [
        "#Multinomial NB\n",
        "MNB=MultinomialNB()\n",
        "MNB.fit(X_train_transformed,y_train)\n",
        "duration = perf_counter() - start\n",
        "duration = round(duration,2)\n",
        "print(f\"MNB trained in {duration}\")\n",
        "X_test_transformed = cv.transform(X_test)\n",
        "y_pred=MNB.predict(X_test_transformed)\n",
        "mnb_accuracy=accuracy_score(y_test, y_pred)\n",
        "print(accuracy_score(y_test, y_pred))\n",
        "print(MNB.score(X_test_transformed,y_test))\n",
        "\n"
      ],
      "id": "7dZ5ZCcMcuU2",
      "execution_count": 131,
      "outputs": [
        {
          "output_type": "stream",
          "name": "stdout",
          "text": [
            "MNB trained in 98.83\n",
            "0.888235294117647\n",
            "0.888235294117647\n"
          ]
        }
      ]
    },
    {
      "cell_type": "code",
      "metadata": {
        "id": "J5kIwdCbW7Ik"
      },
      "source": [
        "model_accuracy=[]\n",
        "model_accuracy.append((\"DecisionTree\",DT_accuracy))\n",
        "model_accuracy.append((\"Linear SVM\",lvm_accuracy))\n",
        "model_accuracy.append((\"RBF SVM\",rbf_svm_accuracy))\n",
        "model_accuracy.append((\"Multinomial NB\",mnb_accuracy))"
      ],
      "id": "J5kIwdCbW7Ik",
      "execution_count": 132,
      "outputs": []
    },
    {
      "cell_type": "code",
      "metadata": {
        "colab": {
          "base_uri": "https://localhost:8080/",
          "height": 172
        },
        "id": "3JMNWJLMRH0q",
        "outputId": "6ee18cb9-3255-4770-f072-f7c56efa6009"
      },
      "source": [
        "model_accuracy=pd.DataFrame(model_accuracy)\n",
        "model_accuracy.columns=['Model','Accuracy on Test data']\n",
        "model_accuracy"
      ],
      "id": "3JMNWJLMRH0q",
      "execution_count": 133,
      "outputs": [
        {
          "output_type": "execute_result",
          "data": {
            "text/html": [
              "<div>\n",
              "<style scoped>\n",
              "    .dataframe tbody tr th:only-of-type {\n",
              "        vertical-align: middle;\n",
              "    }\n",
              "\n",
              "    .dataframe tbody tr th {\n",
              "        vertical-align: top;\n",
              "    }\n",
              "\n",
              "    .dataframe thead th {\n",
              "        text-align: right;\n",
              "    }\n",
              "</style>\n",
              "<table border=\"1\" class=\"dataframe\">\n",
              "  <thead>\n",
              "    <tr style=\"text-align: right;\">\n",
              "      <th></th>\n",
              "      <th>Model</th>\n",
              "      <th>Accuracy on Test data</th>\n",
              "    </tr>\n",
              "  </thead>\n",
              "  <tbody>\n",
              "    <tr>\n",
              "      <th>0</th>\n",
              "      <td>DecisionTree</td>\n",
              "      <td>0.855882</td>\n",
              "    </tr>\n",
              "    <tr>\n",
              "      <th>1</th>\n",
              "      <td>Linear SVM</td>\n",
              "      <td>0.917647</td>\n",
              "    </tr>\n",
              "    <tr>\n",
              "      <th>2</th>\n",
              "      <td>RBF SVM</td>\n",
              "      <td>0.888235</td>\n",
              "    </tr>\n",
              "    <tr>\n",
              "      <th>3</th>\n",
              "      <td>Multinomial NB</td>\n",
              "      <td>0.888235</td>\n",
              "    </tr>\n",
              "  </tbody>\n",
              "</table>\n",
              "</div>"
            ],
            "text/plain": [
              "            Model  Accuracy on Test data\n",
              "0    DecisionTree               0.855882\n",
              "1      Linear SVM               0.917647\n",
              "2         RBF SVM               0.888235\n",
              "3  Multinomial NB               0.888235"
            ]
          },
          "metadata": {},
          "execution_count": 133
        }
      ]
    },
    {
      "cell_type": "code",
      "metadata": {
        "colab": {
          "base_uri": "https://localhost:8080/",
          "height": 369
        },
        "id": "hzn4xPLjXgcW",
        "outputId": "7f5d9b83-010c-40fc-e9e7-02f18a358865"
      },
      "source": [
        "\n",
        "import matplotlib.pyplot as plt\n",
        "import seaborn as sns\n",
        "sns.set_style('whitegrid')\n",
        "\n",
        "\n",
        "plt.figure(figsize = (15,5))\n",
        "sns.barplot(x = 'Model', y ='Accuracy on Test data', data = model_accuracy)\n",
        "#sns.barplot(x = 'Model', y ='Accuracy on Test data', data = model_accuracy)\n",
        "plt.title('Accuracy on the test set\\n', fontsize = 15)\n",
        "plt.ylim(0.6,0.95)\n",
        "plt.show()"
      ],
      "id": "hzn4xPLjXgcW",
      "execution_count": 135,
      "outputs": [
        {
          "output_type": "display_data",
          "data": {
            "image/png": "[encoded data removed]",
            "text/plain": [
              "<Figure size 1080x360 with 1 Axes>"
            ]
          },
          "metadata": {}
        }
      ]
    },
    {
      "cell_type": "code",
      "metadata": {
        "id": "fwRUeL5wptbw"
      },
      "source": [
        "#Feature extraction using BOW\n",
        "\n",
        "cv_bow=CountVectorizer(ngram_range=(1,4))\n",
        "cv_bow.fit(X_train)\n",
        "X_train_transformed_bow = cv.transform(X_train)\n",
        "\n",
        "\n"
      ],
      "id": "fwRUeL5wptbw",
      "execution_count": 136,
      "outputs": []
    },
    {
      "cell_type": "code",
      "metadata": {
        "colab": {
          "base_uri": "https://localhost:8080/"
        },
        "id": "XmGvaRtHf-SA",
        "outputId": "c5d490bc-5feb-453d-8355-93cece5462b9"
      },
      "source": [
        "#DecisionTree with Bag of Words\n",
        "DT_bow=DecisionTreeClassifier()\n",
        "DT_bow.fit(X_train_transformed, y_train)\n",
        "duration = perf_counter() - start\n",
        "duration = round(duration,2)\n",
        "print(f\"DECISION TREE trained in {duration}\")\n",
        "X_test_transformed_bow = cv_bow.transform(X_test)\n",
        "y_pred=DT_bow.predict(X_test_transformed_bow)\n",
        "DT_bow_accuracy=accuracy_score(y_test, y_pred)\n",
        "print(accuracy_score(y_test, y_pred))\n",
        "print(DT_bow.score(X_test_transformed_bow,y_test))"
      ],
      "id": "XmGvaRtHf-SA",
      "execution_count": 137,
      "outputs": [
        {
          "output_type": "stream",
          "name": "stdout",
          "text": [
            "DECISION TREE trained in 148.33\n",
            "0.8058823529411765\n",
            "0.8058823529411765\n"
          ]
        }
      ]
    },
    {
      "cell_type": "code",
      "metadata": {
        "colab": {
          "base_uri": "https://localhost:8080/"
        },
        "id": "bV_769hcgP9d",
        "outputId": "3629d5f9-aeb5-446c-eb49-c63d08a0b024"
      },
      "source": [
        "#SVM(Linear)\n",
        "lvm_bow=LinearSVC()\n",
        "lvm_bow.fit(X_train_transformed_bow, y_train)\n",
        "duration = perf_counter() - start\n",
        "duration = round(duration,2)\n",
        "print(f\"LINEAR SVM trained in {duration}\")\n",
        "X_test_transformed_bow = cv_bow.transform(X_test)\n",
        "y_pred=lvm_bow.predict(X_test_transformed_bow)\n",
        "lvm_accuracy_bow=accuracy_score(y_test, y_pred)\n",
        "print(accuracy_score(y_test, y_pred))\n",
        "print(lvm.score(X_test_transformed_bow,y_test))\n",
        "\n"
      ],
      "id": "bV_769hcgP9d",
      "execution_count": 138,
      "outputs": [
        {
          "output_type": "stream",
          "name": "stdout",
          "text": [
            "LINEAR SVM trained in 150.49\n",
            "0.9235294117647059\n",
            "0.9235294117647059\n"
          ]
        }
      ]
    },
    {
      "cell_type": "code",
      "metadata": {
        "colab": {
          "base_uri": "https://localhost:8080/"
        },
        "id": "3WapoyxkhfFq",
        "outputId": "d4cb49ed-5940-4e59-92c3-129e11effcf2"
      },
      "source": [
        "# RBF SVM\n",
        "#SVM(Linear)\n",
        "rbf_svm_bow=SVC()\n",
        "rbf_svm_bow.fit(X_train_transformed_bow, y_train)\n",
        "duration = perf_counter() - start\n",
        "duration = round(duration,2)\n",
        "print(f\"RBF SVM trained in {duration}\")\n",
        "X_test_transformed_bow = cv_bow.transform(X_test)\n",
        "y_pred=rbf_svm_bow.predict(X_test_transformed_bow)\n",
        "rbf_svm_accuracy_bow=accuracy_score(y_test, y_pred)\n",
        "print(accuracy_score(y_test, y_pred))\n",
        "print(rbf_svm_bow.score(X_test_transformed_bow,y_test))\n",
        "\n",
        "\n",
        "\n",
        "\n"
      ],
      "id": "3WapoyxkhfFq",
      "execution_count": 139,
      "outputs": [
        {
          "output_type": "stream",
          "name": "stdout",
          "text": [
            "RBF SVM trained in 154.61\n",
            "0.17058823529411765\n",
            "0.17058823529411765\n"
          ]
        }
      ]
    },
    {
      "cell_type": "code",
      "metadata": {
        "colab": {
          "base_uri": "https://localhost:8080/"
        },
        "id": "iy6_IS2Bh5H_",
        "outputId": "19cbd7fb-d279-4d1f-80f0-622247cc61bd"
      },
      "source": [
        "#Multinomial NB\n",
        "MNB_bow=MultinomialNB()\n",
        "MNB_bow.fit(X_train_transformed_bow,y_train)\n",
        "duration = perf_counter() - start\n",
        "duration = round(duration,2)\n",
        "print(f\"MNB trained in {duration}\")\n",
        "X_test_transformed_bow = cv_bow.transform(X_test)\n",
        "y_pred=MNB_bow.predict(X_test_transformed_bow)\n",
        "mnb_accuracy_bow=accuracy_score(y_test, y_pred)\n",
        "print(accuracy_score(y_test, y_pred))\n",
        "print(MNB_bow.score(X_test_transformed_bow,y_test))\n",
        "\n"
      ],
      "id": "iy6_IS2Bh5H_",
      "execution_count": 140,
      "outputs": [
        {
          "output_type": "stream",
          "name": "stdout",
          "text": [
            "MNB trained in 158.59\n",
            "0.8823529411764706\n",
            "0.8823529411764706\n"
          ]
        }
      ]
    },
    {
      "cell_type": "code",
      "metadata": {
        "colab": {
          "base_uri": "https://localhost:8080/",
          "height": 172
        },
        "id": "j-FZvHrniPAe",
        "outputId": "e783e3b6-6d1f-43d0-ca1c-e043e314e506"
      },
      "source": [
        "model_accuracy_bow=[]\n",
        "model_accuracy_bow.append((\"DecisionTree\",DT_bow_accuracy))\n",
        "model_accuracy_bow.append((\"Linear SVM\",lvm_accuracy_bow))\n",
        "model_accuracy_bow.append((\"RBF SVM\",rbf_svm_accuracy_bow))\n",
        "model_accuracy_bow.append((\"Multinomial NB\",mnb_accuracy_bow))\n",
        "model_accuracy_bow\n",
        "model_accuracy_bow=pd.DataFrame(model_accuracy_bow)\n",
        "model_accuracy_bow.columns=['Model','Accuracy on Test data']\n",
        "model_accuracy_bow"
      ],
      "id": "j-FZvHrniPAe",
      "execution_count": 141,
      "outputs": [
        {
          "output_type": "execute_result",
          "data": {
            "text/html": [
              "<div>\n",
              "<style scoped>\n",
              "    .dataframe tbody tr th:only-of-type {\n",
              "        vertical-align: middle;\n",
              "    }\n",
              "\n",
              "    .dataframe tbody tr th {\n",
              "        vertical-align: top;\n",
              "    }\n",
              "\n",
              "    .dataframe thead th {\n",
              "        text-align: right;\n",
              "    }\n",
              "</style>\n",
              "<table border=\"1\" class=\"dataframe\">\n",
              "  <thead>\n",
              "    <tr style=\"text-align: right;\">\n",
              "      <th></th>\n",
              "      <th>Model</th>\n",
              "      <th>Accuracy on Test data</th>\n",
              "    </tr>\n",
              "  </thead>\n",
              "  <tbody>\n",
              "    <tr>\n",
              "      <th>0</th>\n",
              "      <td>DecisionTree</td>\n",
              "      <td>0.805882</td>\n",
              "    </tr>\n",
              "    <tr>\n",
              "      <th>1</th>\n",
              "      <td>Linear SVM</td>\n",
              "      <td>0.923529</td>\n",
              "    </tr>\n",
              "    <tr>\n",
              "      <th>2</th>\n",
              "      <td>RBF SVM</td>\n",
              "      <td>0.170588</td>\n",
              "    </tr>\n",
              "    <tr>\n",
              "      <th>3</th>\n",
              "      <td>Multinomial NB</td>\n",
              "      <td>0.882353</td>\n",
              "    </tr>\n",
              "  </tbody>\n",
              "</table>\n",
              "</div>"
            ],
            "text/plain": [
              "            Model  Accuracy on Test data\n",
              "0    DecisionTree               0.805882\n",
              "1      Linear SVM               0.923529\n",
              "2         RBF SVM               0.170588\n",
              "3  Multinomial NB               0.882353"
            ]
          },
          "metadata": {},
          "execution_count": 141
        }
      ]
    },
    {
      "cell_type": "code",
      "metadata": {
        "colab": {
          "base_uri": "https://localhost:8080/",
          "height": 369
        },
        "id": "SFsuCJRwiv6N",
        "outputId": "f50353a1-11ab-4602-ab7f-a153ae097cc3"
      },
      "source": [
        "plt.figure(figsize = (15,5))\n",
        "sns.barplot(x = 'Model', y ='Accuracy on Test data', data = model_accuracy_bow)\n",
        "#sns.barplot(x = 'Model', y ='Accuracy on Test data', data = model_accuracy)\n",
        "plt.title('Accuracy on the test set\\n', fontsize = 15)\n",
        "plt.ylim(0.1,0.95)\n",
        "plt.show()"
      ],
      "id": "SFsuCJRwiv6N",
      "execution_count": 143,
      "outputs": [
        {
          "output_type": "display_data",
          "data": {
            "image/png": "[encoded data removed]",
            "text/plain": [
              "<Figure size 1080x360 with 1 Axes>"
            ]
          },
          "metadata": {}
        }
      ]
    }
  ]
}